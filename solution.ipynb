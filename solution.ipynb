{
 "cells": [
  {
   "cell_type": "code",
   "execution_count": 84,
   "id": "8f5041a8",
   "metadata": {},
   "outputs": [],
   "source": [
    "import pandas as pd\n",
    "import numpy as np\n",
    "import sklearn \n",
    "import matplotlib.pyplot as plt\n",
    "import seaborn as sns\n",
    "from sklearn.preprocessing import LabelEncoder\n",
    "from sklearn.preprocessing import OneHotEncoder\n",
    "import imblearn\n",
    "from collections import Counter\n",
    "from datetime import datetime\n",
    "from imblearn.over_sampling import SMOTE"
   ]
  },
  {
   "cell_type": "code",
   "execution_count": 142,
   "id": "ccc51cb5-dcab-494c-9894-ba385557ca35",
   "metadata": {},
   "outputs": [],
   "source": [
    "def timer(start_time=None):\n",
    "    '''\n",
    "    Timer function to calculate runnig time for a block of statements\n",
    "    start_time : Time at which staments are excuted\n",
    "    '''\n",
    "    if start_time is None:\n",
    "        return datetime.now()\n",
    "    else:\n",
    "        elapsed_time = (datetime.now()-start_time).seconds\n",
    "        thour, tsec = divmod(elapsed_time, 3600)\n",
    "        tmin, tsec = divmod(tsec, 60)\n",
    "        print(f\"Time taken: {thour}hr {tmin}min {tsec}s\")"
   ]
  },
  {
   "cell_type": "code",
   "execution_count": 143,
   "id": "4e797ddc",
   "metadata": {},
   "outputs": [],
   "source": [
    "# Train, test datset paths\n",
    "train_set_path = \"./dataset/train_s3TEQDk.csv\"\n",
    "test_set_path = \"dataset/test_mSzZ8RL.csv\""
   ]
  },
  {
   "cell_type": "code",
   "execution_count": 144,
   "id": "1ba2f63a",
   "metadata": {},
   "outputs": [
    {
     "data": {
      "text/html": [
       "<div>\n",
       "<style scoped>\n",
       "    .dataframe tbody tr th:only-of-type {\n",
       "        vertical-align: middle;\n",
       "    }\n",
       "\n",
       "    .dataframe tbody tr th {\n",
       "        vertical-align: top;\n",
       "    }\n",
       "\n",
       "    .dataframe thead th {\n",
       "        text-align: right;\n",
       "    }\n",
       "</style>\n",
       "<table border=\"1\" class=\"dataframe\">\n",
       "  <thead>\n",
       "    <tr style=\"text-align: right;\">\n",
       "      <th></th>\n",
       "      <th>ID</th>\n",
       "      <th>Gender</th>\n",
       "      <th>Age</th>\n",
       "      <th>Region_Code</th>\n",
       "      <th>Occupation</th>\n",
       "      <th>Channel_Code</th>\n",
       "      <th>Vintage</th>\n",
       "      <th>Credit_Product</th>\n",
       "      <th>Avg_Account_Balance</th>\n",
       "      <th>Is_Active</th>\n",
       "      <th>Is_Lead</th>\n",
       "    </tr>\n",
       "  </thead>\n",
       "  <tbody>\n",
       "    <tr>\n",
       "      <th>0</th>\n",
       "      <td>NNVBBKZB</td>\n",
       "      <td>Female</td>\n",
       "      <td>73</td>\n",
       "      <td>RG268</td>\n",
       "      <td>Other</td>\n",
       "      <td>X3</td>\n",
       "      <td>43</td>\n",
       "      <td>No</td>\n",
       "      <td>1045696</td>\n",
       "      <td>No</td>\n",
       "      <td>0</td>\n",
       "    </tr>\n",
       "    <tr>\n",
       "      <th>1</th>\n",
       "      <td>IDD62UNG</td>\n",
       "      <td>Female</td>\n",
       "      <td>30</td>\n",
       "      <td>RG277</td>\n",
       "      <td>Salaried</td>\n",
       "      <td>X1</td>\n",
       "      <td>32</td>\n",
       "      <td>No</td>\n",
       "      <td>581988</td>\n",
       "      <td>No</td>\n",
       "      <td>0</td>\n",
       "    </tr>\n",
       "    <tr>\n",
       "      <th>2</th>\n",
       "      <td>HD3DSEMC</td>\n",
       "      <td>Female</td>\n",
       "      <td>56</td>\n",
       "      <td>RG268</td>\n",
       "      <td>Self_Employed</td>\n",
       "      <td>X3</td>\n",
       "      <td>26</td>\n",
       "      <td>No</td>\n",
       "      <td>1484315</td>\n",
       "      <td>Yes</td>\n",
       "      <td>0</td>\n",
       "    </tr>\n",
       "    <tr>\n",
       "      <th>3</th>\n",
       "      <td>BF3NC7KV</td>\n",
       "      <td>Male</td>\n",
       "      <td>34</td>\n",
       "      <td>RG270</td>\n",
       "      <td>Salaried</td>\n",
       "      <td>X1</td>\n",
       "      <td>19</td>\n",
       "      <td>No</td>\n",
       "      <td>470454</td>\n",
       "      <td>No</td>\n",
       "      <td>0</td>\n",
       "    </tr>\n",
       "    <tr>\n",
       "      <th>4</th>\n",
       "      <td>TEASRWXV</td>\n",
       "      <td>Female</td>\n",
       "      <td>30</td>\n",
       "      <td>RG282</td>\n",
       "      <td>Salaried</td>\n",
       "      <td>X1</td>\n",
       "      <td>33</td>\n",
       "      <td>No</td>\n",
       "      <td>886787</td>\n",
       "      <td>No</td>\n",
       "      <td>0</td>\n",
       "    </tr>\n",
       "  </tbody>\n",
       "</table>\n",
       "</div>"
      ],
      "text/plain": [
       "         ID  Gender  Age Region_Code     Occupation Channel_Code  Vintage  \\\n",
       "0  NNVBBKZB  Female   73       RG268          Other           X3       43   \n",
       "1  IDD62UNG  Female   30       RG277       Salaried           X1       32   \n",
       "2  HD3DSEMC  Female   56       RG268  Self_Employed           X3       26   \n",
       "3  BF3NC7KV    Male   34       RG270       Salaried           X1       19   \n",
       "4  TEASRWXV  Female   30       RG282       Salaried           X1       33   \n",
       "\n",
       "  Credit_Product  Avg_Account_Balance Is_Active  Is_Lead  \n",
       "0             No              1045696        No        0  \n",
       "1             No               581988        No        0  \n",
       "2             No              1484315       Yes        0  \n",
       "3             No               470454        No        0  \n",
       "4             No               886787        No        0  "
      ]
     },
     "execution_count": 144,
     "metadata": {},
     "output_type": "execute_result"
    }
   ],
   "source": [
    "# Reading dataset into dataframe\n",
    "train_set = pd.read_csv(train_set_path)\n",
    "test_set = pd.read_csv(test_set_path)\n",
    "train_set.head()"
   ]
  },
  {
   "cell_type": "code",
   "execution_count": 145,
   "id": "16f3b43d",
   "metadata": {},
   "outputs": [
    {
     "name": "stdout",
     "output_type": "stream",
     "text": [
      "<class 'pandas.core.frame.DataFrame'>\n",
      "RangeIndex: 245725 entries, 0 to 245724\n",
      "Data columns (total 11 columns):\n",
      " #   Column               Non-Null Count   Dtype \n",
      "---  ------               --------------   ----- \n",
      " 0   ID                   245725 non-null  object\n",
      " 1   Gender               245725 non-null  object\n",
      " 2   Age                  245725 non-null  int64 \n",
      " 3   Region_Code          245725 non-null  object\n",
      " 4   Occupation           245725 non-null  object\n",
      " 5   Channel_Code         245725 non-null  object\n",
      " 6   Vintage              245725 non-null  int64 \n",
      " 7   Credit_Product       216400 non-null  object\n",
      " 8   Avg_Account_Balance  245725 non-null  int64 \n",
      " 9   Is_Active            245725 non-null  object\n",
      " 10  Is_Lead              245725 non-null  int64 \n",
      "dtypes: int64(4), object(7)\n",
      "memory usage: 20.6+ MB\n"
     ]
    },
    {
     "data": {
      "text/plain": [
       "(None, (245725, 11))"
      ]
     },
     "execution_count": 145,
     "metadata": {},
     "output_type": "execute_result"
    }
   ],
   "source": [
    "# Getting insights of Dataset\n",
    "train_set.info(), train_set.shape"
   ]
  },
  {
   "cell_type": "code",
   "execution_count": 146,
   "id": "c2843e05",
   "metadata": {},
   "outputs": [
    {
     "name": "stdout",
     "output_type": "stream",
     "text": [
      "<class 'pandas.core.frame.DataFrame'>\n",
      "RangeIndex: 105312 entries, 0 to 105311\n",
      "Data columns (total 10 columns):\n",
      " #   Column               Non-Null Count   Dtype \n",
      "---  ------               --------------   ----- \n",
      " 0   ID                   105312 non-null  object\n",
      " 1   Gender               105312 non-null  object\n",
      " 2   Age                  105312 non-null  int64 \n",
      " 3   Region_Code          105312 non-null  object\n",
      " 4   Occupation           105312 non-null  object\n",
      " 5   Channel_Code         105312 non-null  object\n",
      " 6   Vintage              105312 non-null  int64 \n",
      " 7   Credit_Product       92790 non-null   object\n",
      " 8   Avg_Account_Balance  105312 non-null  int64 \n",
      " 9   Is_Active            105312 non-null  object\n",
      "dtypes: int64(3), object(7)\n",
      "memory usage: 8.0+ MB\n"
     ]
    },
    {
     "data": {
      "text/plain": [
       "(None, (105312, 10))"
      ]
     },
     "execution_count": 146,
     "metadata": {},
     "output_type": "execute_result"
    }
   ],
   "source": [
    "test_set.info(), test_set.shape"
   ]
  },
  {
   "cell_type": "markdown",
   "id": "8aca1591-524c-44b7-b0d6-e0e777de9dca",
   "metadata": {},
   "source": [
    "## **Visualizing features to check data distribution**"
   ]
  },
  {
   "cell_type": "code",
   "execution_count": 49,
   "id": "191f6a12",
   "metadata": {},
   "outputs": [
    {
     "data": {
      "image/png": "[encoded data removed]",
      "text/plain": [
       "<Figure size 1080x432 with 8 Axes>"
      ]
     },
     "metadata": {
      "needs_background": "light"
     },
     "output_type": "display_data"
    }
   ],
   "source": [
    "numerical = ['Age', 'Vintage', 'Avg_Account_Balance', 'Is_Lead']\n",
    "train_set[numerical].hist(bins=15, figsize=(15,6), layout=(2,4));"
   ]
  },
  {
   "cell_type": "markdown",
   "id": "ccb10a16-cc8b-49e1-8696-83f95cd249ef",
   "metadata": {},
   "source": [
    "## **Removing NAN values using impute strategy**"
   ]
  },
  {
   "cell_type": "code",
   "execution_count": 148,
   "id": "2055129d",
   "metadata": {},
   "outputs": [
    {
     "name": "stdout",
     "output_type": "stream",
     "text": [
      "<class 'pandas.core.frame.DataFrame'>\n",
      "RangeIndex: 245725 entries, 0 to 245724\n",
      "Data columns (total 12 columns):\n",
      " #   Column                  Non-Null Count   Dtype \n",
      "---  ------                  --------------   ----- \n",
      " 0   ID                      245725 non-null  object\n",
      " 1   Gender                  245725 non-null  object\n",
      " 2   Age                     245725 non-null  int64 \n",
      " 3   Region_Code             245725 non-null  object\n",
      " 4   Occupation              245725 non-null  object\n",
      " 5   Channel_Code            245725 non-null  object\n",
      " 6   Vintage                 245725 non-null  int64 \n",
      " 7   Credit_Product          245725 non-null  object\n",
      " 8   Avg_Account_Balance     245725 non-null  int64 \n",
      " 9   Is_Active               245725 non-null  object\n",
      " 10  Is_Lead                 245725 non-null  int64 \n",
      " 11  Credit_Product_imputed  245725 non-null  int32 \n",
      "dtypes: int32(1), int64(4), object(7)\n",
      "memory usage: 21.6+ MB\n",
      "<class 'pandas.core.frame.DataFrame'>\n",
      "RangeIndex: 105312 entries, 0 to 105311\n",
      "Data columns (total 11 columns):\n",
      " #   Column                  Non-Null Count   Dtype \n",
      "---  ------                  --------------   ----- \n",
      " 0   ID                      105312 non-null  object\n",
      " 1   Gender                  105312 non-null  object\n",
      " 2   Age                     105312 non-null  int64 \n",
      " 3   Region_Code             105312 non-null  object\n",
      " 4   Occupation              105312 non-null  object\n",
      " 5   Channel_Code            105312 non-null  object\n",
      " 6   Vintage                 105312 non-null  int64 \n",
      " 7   Credit_Product          105312 non-null  object\n",
      " 8   Avg_Account_Balance     105312 non-null  int64 \n",
      " 9   Is_Active               105312 non-null  object\n",
      " 10  Credit_Product_imputed  105312 non-null  int32 \n",
      "dtypes: int32(1), int64(3), object(7)\n",
      "memory usage: 8.4+ MB\n"
     ]
    },
    {
     "data": {
      "text/plain": [
       "(None, None)"
      ]
     },
     "execution_count": 148,
     "metadata": {},
     "output_type": "execute_result"
    }
   ],
   "source": [
    "def impute_nan_values(df, colName):\n",
    "    \n",
    "    df[colName+\"_imputed\"] = np.where(df[colName].isnull(), 1, 0)\n",
    "    mode_cat = df[colName].mode()[0]\n",
    "    df[colName].fillna(mode_cat, inplace=True)\n",
    "    \n",
    "categorical = ['Gender', 'Region_Code', 'Occupation', 'Credit_Product', 'Is_Active']\n",
    "impute_nan_values(train_set, categorical[3])\n",
    "impute_nan_values(test_set, categorical[3])\n",
    "train_set.info(), test_set.info()"
   ]
  },
  {
   "cell_type": "markdown",
   "id": "02cecf78-643d-4753-9d4c-a2729aae2a90",
   "metadata": {},
   "source": [
    "## **Visualizing Corelation Matrix** "
   ]
  },
  {
   "cell_type": "code",
   "execution_count": 55,
   "id": "5e84335e-10da-46b4-9105-bcc2187423cf",
   "metadata": {},
   "outputs": [
    {
     "data": {
      "image/png": "[encoded data removed]",
      "text/plain": [
       "<Figure size 1080x1080 with 2 Axes>"
      ]
     },
     "metadata": {
      "needs_background": "light"
     },
     "output_type": "display_data"
    }
   ],
   "source": [
    "cols = list(range(12))\n",
    "fig, ax = plt.subplots(figsize=(15,15))\n",
    "correlation = train_set.iloc[:, cols].corr()\n",
    "sns.heatmap(correlation, xticklabels = correlation.columns, yticklabels=correlation.columns, annot=True)\n",
    "plt.savefig(\"Correlation Matrix of trainset.png\")"
   ]
  },
  {
   "cell_type": "markdown",
   "id": "e65e0255-dee8-4212-94e8-9bfeb974f3c5",
   "metadata": {},
   "source": [
    "`As we can see 'age' and 'vintage' showing a relatively high correlation. My approach will be to drop 'age' column.`"
   ]
  },
  {
   "cell_type": "code",
   "execution_count": 149,
   "id": "f327f4df-7846-4f51-bda0-1ad737d88fdb",
   "metadata": {},
   "outputs": [
    {
     "data": {
      "text/plain": [
       "(245725, 11)"
      ]
     },
     "execution_count": 149,
     "metadata": {},
     "output_type": "execute_result"
    }
   ],
   "source": [
    "train_set.drop(['Age'], axis=1, inplace=True)\n",
    "train_set.shape"
   ]
  },
  {
   "cell_type": "code",
   "execution_count": 150,
   "id": "6c6a3db8-c6db-4fa7-a374-616ffaeca9b2",
   "metadata": {},
   "outputs": [
    {
     "data": {
      "text/plain": [
       "(105312, 10)"
      ]
     },
     "execution_count": 150,
     "metadata": {},
     "output_type": "execute_result"
    }
   ],
   "source": [
    "test_set.drop(['Age'], axis=1, inplace=True)\n",
    "test_set.shape"
   ]
  },
  {
   "cell_type": "code",
   "execution_count": 151,
   "id": "d05095d5",
   "metadata": {},
   "outputs": [],
   "source": [
    "# Extracting target variable\n",
    "y = train_set['Is_Lead']\n",
    "train_set.drop('Is_Lead', axis=1, inplace=True)"
   ]
  },
  {
   "cell_type": "code",
   "execution_count": 152,
   "id": "31892d71",
   "metadata": {},
   "outputs": [
    {
     "data": {
      "text/html": [
       "<div>\n",
       "<style scoped>\n",
       "    .dataframe tbody tr th:only-of-type {\n",
       "        vertical-align: middle;\n",
       "    }\n",
       "\n",
       "    .dataframe tbody tr th {\n",
       "        vertical-align: top;\n",
       "    }\n",
       "\n",
       "    .dataframe thead th {\n",
       "        text-align: right;\n",
       "    }\n",
       "</style>\n",
       "<table border=\"1\" class=\"dataframe\">\n",
       "  <thead>\n",
       "    <tr style=\"text-align: right;\">\n",
       "      <th></th>\n",
       "      <th>ID</th>\n",
       "      <th>Gender</th>\n",
       "      <th>Region_Code</th>\n",
       "      <th>Occupation</th>\n",
       "      <th>Channel_Code</th>\n",
       "      <th>Vintage</th>\n",
       "      <th>Credit_Product</th>\n",
       "      <th>Avg_Account_Balance</th>\n",
       "      <th>Is_Active</th>\n",
       "      <th>Credit_Product_imputed</th>\n",
       "    </tr>\n",
       "  </thead>\n",
       "  <tbody>\n",
       "    <tr>\n",
       "      <th>0</th>\n",
       "      <td>NNVBBKZB</td>\n",
       "      <td>Female</td>\n",
       "      <td>RG268</td>\n",
       "      <td>Other</td>\n",
       "      <td>X3</td>\n",
       "      <td>43</td>\n",
       "      <td>No</td>\n",
       "      <td>1045696</td>\n",
       "      <td>No</td>\n",
       "      <td>0</td>\n",
       "    </tr>\n",
       "    <tr>\n",
       "      <th>1</th>\n",
       "      <td>IDD62UNG</td>\n",
       "      <td>Female</td>\n",
       "      <td>RG277</td>\n",
       "      <td>Salaried</td>\n",
       "      <td>X1</td>\n",
       "      <td>32</td>\n",
       "      <td>No</td>\n",
       "      <td>581988</td>\n",
       "      <td>No</td>\n",
       "      <td>0</td>\n",
       "    </tr>\n",
       "    <tr>\n",
       "      <th>2</th>\n",
       "      <td>HD3DSEMC</td>\n",
       "      <td>Female</td>\n",
       "      <td>RG268</td>\n",
       "      <td>Self_Employed</td>\n",
       "      <td>X3</td>\n",
       "      <td>26</td>\n",
       "      <td>No</td>\n",
       "      <td>1484315</td>\n",
       "      <td>Yes</td>\n",
       "      <td>0</td>\n",
       "    </tr>\n",
       "    <tr>\n",
       "      <th>3</th>\n",
       "      <td>BF3NC7KV</td>\n",
       "      <td>Male</td>\n",
       "      <td>RG270</td>\n",
       "      <td>Salaried</td>\n",
       "      <td>X1</td>\n",
       "      <td>19</td>\n",
       "      <td>No</td>\n",
       "      <td>470454</td>\n",
       "      <td>No</td>\n",
       "      <td>0</td>\n",
       "    </tr>\n",
       "    <tr>\n",
       "      <th>4</th>\n",
       "      <td>TEASRWXV</td>\n",
       "      <td>Female</td>\n",
       "      <td>RG282</td>\n",
       "      <td>Salaried</td>\n",
       "      <td>X1</td>\n",
       "      <td>33</td>\n",
       "      <td>No</td>\n",
       "      <td>886787</td>\n",
       "      <td>No</td>\n",
       "      <td>0</td>\n",
       "    </tr>\n",
       "  </tbody>\n",
       "</table>\n",
       "</div>"
      ],
      "text/plain": [
       "         ID  Gender Region_Code     Occupation Channel_Code  Vintage  \\\n",
       "0  NNVBBKZB  Female       RG268          Other           X3       43   \n",
       "1  IDD62UNG  Female       RG277       Salaried           X1       32   \n",
       "2  HD3DSEMC  Female       RG268  Self_Employed           X3       26   \n",
       "3  BF3NC7KV    Male       RG270       Salaried           X1       19   \n",
       "4  TEASRWXV  Female       RG282       Salaried           X1       33   \n",
       "\n",
       "  Credit_Product  Avg_Account_Balance Is_Active  Credit_Product_imputed  \n",
       "0             No              1045696        No                       0  \n",
       "1             No               581988        No                       0  \n",
       "2             No              1484315       Yes                       0  \n",
       "3             No               470454        No                       0  \n",
       "4             No               886787        No                       0  "
      ]
     },
     "execution_count": 152,
     "metadata": {},
     "output_type": "execute_result"
    }
   ],
   "source": [
    "test_train_set = pd.concat([train_set, test_set], ignore_index=True)\n",
    "test_train_set.head()"
   ]
  },
  {
   "cell_type": "markdown",
   "id": "8cdd1a9c",
   "metadata": {},
   "source": [
    "### **Label Encoding Categorical Variables**"
   ]
  },
  {
   "cell_type": "code",
   "execution_count": 153,
   "id": "bc349d7b",
   "metadata": {},
   "outputs": [],
   "source": [
    "onehotencoder = OneHotEncoder(handle_unknown='ignore')"
   ]
  },
  {
   "cell_type": "code",
   "execution_count": 154,
   "id": "2ca65518",
   "metadata": {},
   "outputs": [
    {
     "data": {
      "text/html": [
       "<div>\n",
       "<style scoped>\n",
       "    .dataframe tbody tr th:only-of-type {\n",
       "        vertical-align: middle;\n",
       "    }\n",
       "\n",
       "    .dataframe tbody tr th {\n",
       "        vertical-align: top;\n",
       "    }\n",
       "\n",
       "    .dataframe thead th {\n",
       "        text-align: right;\n",
       "    }\n",
       "</style>\n",
       "<table border=\"1\" class=\"dataframe\">\n",
       "  <thead>\n",
       "    <tr style=\"text-align: right;\">\n",
       "      <th></th>\n",
       "      <th>0</th>\n",
       "      <th>1</th>\n",
       "      <th>2</th>\n",
       "      <th>3</th>\n",
       "      <th>4</th>\n",
       "      <th>5</th>\n",
       "      <th>6</th>\n",
       "      <th>7</th>\n",
       "      <th>8</th>\n",
       "      <th>9</th>\n",
       "    </tr>\n",
       "  </thead>\n",
       "  <tbody>\n",
       "    <tr>\n",
       "      <th>0</th>\n",
       "      <td>1.0</td>\n",
       "      <td>0.0</td>\n",
       "      <td>1.0</td>\n",
       "      <td>0.0</td>\n",
       "      <td>0.0</td>\n",
       "      <td>1.0</td>\n",
       "      <td>0.0</td>\n",
       "      <td>0.0</td>\n",
       "      <td>1.0</td>\n",
       "      <td>0.0</td>\n",
       "    </tr>\n",
       "    <tr>\n",
       "      <th>1</th>\n",
       "      <td>1.0</td>\n",
       "      <td>0.0</td>\n",
       "      <td>1.0</td>\n",
       "      <td>0.0</td>\n",
       "      <td>0.0</td>\n",
       "      <td>0.0</td>\n",
       "      <td>1.0</td>\n",
       "      <td>0.0</td>\n",
       "      <td>1.0</td>\n",
       "      <td>0.0</td>\n",
       "    </tr>\n",
       "    <tr>\n",
       "      <th>2</th>\n",
       "      <td>1.0</td>\n",
       "      <td>0.0</td>\n",
       "      <td>0.0</td>\n",
       "      <td>1.0</td>\n",
       "      <td>0.0</td>\n",
       "      <td>0.0</td>\n",
       "      <td>0.0</td>\n",
       "      <td>1.0</td>\n",
       "      <td>1.0</td>\n",
       "      <td>0.0</td>\n",
       "    </tr>\n",
       "    <tr>\n",
       "      <th>3</th>\n",
       "      <td>0.0</td>\n",
       "      <td>1.0</td>\n",
       "      <td>1.0</td>\n",
       "      <td>0.0</td>\n",
       "      <td>0.0</td>\n",
       "      <td>0.0</td>\n",
       "      <td>1.0</td>\n",
       "      <td>0.0</td>\n",
       "      <td>1.0</td>\n",
       "      <td>0.0</td>\n",
       "    </tr>\n",
       "    <tr>\n",
       "      <th>4</th>\n",
       "      <td>1.0</td>\n",
       "      <td>0.0</td>\n",
       "      <td>1.0</td>\n",
       "      <td>0.0</td>\n",
       "      <td>0.0</td>\n",
       "      <td>0.0</td>\n",
       "      <td>1.0</td>\n",
       "      <td>0.0</td>\n",
       "      <td>1.0</td>\n",
       "      <td>0.0</td>\n",
       "    </tr>\n",
       "    <tr>\n",
       "      <th>...</th>\n",
       "      <td>...</td>\n",
       "      <td>...</td>\n",
       "      <td>...</td>\n",
       "      <td>...</td>\n",
       "      <td>...</td>\n",
       "      <td>...</td>\n",
       "      <td>...</td>\n",
       "      <td>...</td>\n",
       "      <td>...</td>\n",
       "      <td>...</td>\n",
       "    </tr>\n",
       "    <tr>\n",
       "      <th>351032</th>\n",
       "      <td>0.0</td>\n",
       "      <td>1.0</td>\n",
       "      <td>0.0</td>\n",
       "      <td>1.0</td>\n",
       "      <td>0.0</td>\n",
       "      <td>0.0</td>\n",
       "      <td>1.0</td>\n",
       "      <td>0.0</td>\n",
       "      <td>0.0</td>\n",
       "      <td>1.0</td>\n",
       "    </tr>\n",
       "    <tr>\n",
       "      <th>351033</th>\n",
       "      <td>0.0</td>\n",
       "      <td>1.0</td>\n",
       "      <td>1.0</td>\n",
       "      <td>0.0</td>\n",
       "      <td>0.0</td>\n",
       "      <td>1.0</td>\n",
       "      <td>0.0</td>\n",
       "      <td>0.0</td>\n",
       "      <td>0.0</td>\n",
       "      <td>1.0</td>\n",
       "    </tr>\n",
       "    <tr>\n",
       "      <th>351034</th>\n",
       "      <td>0.0</td>\n",
       "      <td>1.0</td>\n",
       "      <td>1.0</td>\n",
       "      <td>0.0</td>\n",
       "      <td>0.0</td>\n",
       "      <td>0.0</td>\n",
       "      <td>1.0</td>\n",
       "      <td>0.0</td>\n",
       "      <td>1.0</td>\n",
       "      <td>0.0</td>\n",
       "    </tr>\n",
       "    <tr>\n",
       "      <th>351035</th>\n",
       "      <td>0.0</td>\n",
       "      <td>1.0</td>\n",
       "      <td>0.0</td>\n",
       "      <td>1.0</td>\n",
       "      <td>0.0</td>\n",
       "      <td>1.0</td>\n",
       "      <td>0.0</td>\n",
       "      <td>0.0</td>\n",
       "      <td>1.0</td>\n",
       "      <td>0.0</td>\n",
       "    </tr>\n",
       "    <tr>\n",
       "      <th>351036</th>\n",
       "      <td>0.0</td>\n",
       "      <td>1.0</td>\n",
       "      <td>1.0</td>\n",
       "      <td>0.0</td>\n",
       "      <td>0.0</td>\n",
       "      <td>0.0</td>\n",
       "      <td>1.0</td>\n",
       "      <td>0.0</td>\n",
       "      <td>1.0</td>\n",
       "      <td>0.0</td>\n",
       "    </tr>\n",
       "  </tbody>\n",
       "</table>\n",
       "<p>351037 rows × 10 columns</p>\n",
       "</div>"
      ],
      "text/plain": [
       "          0    1    2    3    4    5    6    7    8    9\n",
       "0       1.0  0.0  1.0  0.0  0.0  1.0  0.0  0.0  1.0  0.0\n",
       "1       1.0  0.0  1.0  0.0  0.0  0.0  1.0  0.0  1.0  0.0\n",
       "2       1.0  0.0  0.0  1.0  0.0  0.0  0.0  1.0  1.0  0.0\n",
       "3       0.0  1.0  1.0  0.0  0.0  0.0  1.0  0.0  1.0  0.0\n",
       "4       1.0  0.0  1.0  0.0  0.0  0.0  1.0  0.0  1.0  0.0\n",
       "...     ...  ...  ...  ...  ...  ...  ...  ...  ...  ...\n",
       "351032  0.0  1.0  0.0  1.0  0.0  0.0  1.0  0.0  0.0  1.0\n",
       "351033  0.0  1.0  1.0  0.0  0.0  1.0  0.0  0.0  0.0  1.0\n",
       "351034  0.0  1.0  1.0  0.0  0.0  0.0  1.0  0.0  1.0  0.0\n",
       "351035  0.0  1.0  0.0  1.0  0.0  1.0  0.0  0.0  1.0  0.0\n",
       "351036  0.0  1.0  1.0  0.0  0.0  0.0  1.0  0.0  1.0  0.0\n",
       "\n",
       "[351037 rows x 10 columns]"
      ]
     },
     "execution_count": 154,
     "metadata": {},
     "output_type": "execute_result"
    }
   ],
   "source": [
    "onehotencoding_cols = ['Gender', 'Is_Active', 'Occupation', 'Credit_Product']# 'Channel_Code'\n",
    "encoded_col = pd.DataFrame(onehotencoder.fit_transform(test_train_set[onehotencoding_cols]).toarray())\n",
    "encoded_col"
   ]
  },
  {
   "cell_type": "code",
   "execution_count": 155,
   "id": "a3e1d08a",
   "metadata": {},
   "outputs": [],
   "source": [
    "#Removing already onehotencoded categorical columns\n",
    "test_train_set = test_train_set.drop(onehotencoding_cols, axis=1)"
   ]
  },
  {
   "cell_type": "code",
   "execution_count": 156,
   "id": "30796bee",
   "metadata": {},
   "outputs": [],
   "source": [
    "#Joining new one hot encoded columns to dataframe\n",
    "test_train_set = test_train_set.join(encoded_col)"
   ]
  },
  {
   "cell_type": "code",
   "execution_count": 157,
   "id": "254eb03d",
   "metadata": {},
   "outputs": [],
   "source": [
    "# Removing other columns which are not important\n",
    "test_train_set = test_train_set.drop(['Region_Code', \"Channel_Code\"], axis=1)"
   ]
  },
  {
   "cell_type": "code",
   "execution_count": 158,
   "id": "a9db4735",
   "metadata": {},
   "outputs": [
    {
     "data": {
      "text/html": [
       "<div>\n",
       "<style scoped>\n",
       "    .dataframe tbody tr th:only-of-type {\n",
       "        vertical-align: middle;\n",
       "    }\n",
       "\n",
       "    .dataframe tbody tr th {\n",
       "        vertical-align: top;\n",
       "    }\n",
       "\n",
       "    .dataframe thead th {\n",
       "        text-align: right;\n",
       "    }\n",
       "</style>\n",
       "<table border=\"1\" class=\"dataframe\">\n",
       "  <thead>\n",
       "    <tr style=\"text-align: right;\">\n",
       "      <th></th>\n",
       "      <th>ID</th>\n",
       "      <th>Vintage</th>\n",
       "      <th>Avg_Account_Balance</th>\n",
       "      <th>Credit_Product_imputed</th>\n",
       "      <th>0</th>\n",
       "      <th>1</th>\n",
       "      <th>2</th>\n",
       "      <th>3</th>\n",
       "      <th>4</th>\n",
       "      <th>5</th>\n",
       "      <th>6</th>\n",
       "      <th>7</th>\n",
       "      <th>8</th>\n",
       "      <th>9</th>\n",
       "    </tr>\n",
       "  </thead>\n",
       "  <tbody>\n",
       "    <tr>\n",
       "      <th>0</th>\n",
       "      <td>NNVBBKZB</td>\n",
       "      <td>43</td>\n",
       "      <td>1045696</td>\n",
       "      <td>0</td>\n",
       "      <td>1.0</td>\n",
       "      <td>0.0</td>\n",
       "      <td>1.0</td>\n",
       "      <td>0.0</td>\n",
       "      <td>0.0</td>\n",
       "      <td>1.0</td>\n",
       "      <td>0.0</td>\n",
       "      <td>0.0</td>\n",
       "      <td>1.0</td>\n",
       "      <td>0.0</td>\n",
       "    </tr>\n",
       "    <tr>\n",
       "      <th>1</th>\n",
       "      <td>IDD62UNG</td>\n",
       "      <td>32</td>\n",
       "      <td>581988</td>\n",
       "      <td>0</td>\n",
       "      <td>1.0</td>\n",
       "      <td>0.0</td>\n",
       "      <td>1.0</td>\n",
       "      <td>0.0</td>\n",
       "      <td>0.0</td>\n",
       "      <td>0.0</td>\n",
       "      <td>1.0</td>\n",
       "      <td>0.0</td>\n",
       "      <td>1.0</td>\n",
       "      <td>0.0</td>\n",
       "    </tr>\n",
       "    <tr>\n",
       "      <th>2</th>\n",
       "      <td>HD3DSEMC</td>\n",
       "      <td>26</td>\n",
       "      <td>1484315</td>\n",
       "      <td>0</td>\n",
       "      <td>1.0</td>\n",
       "      <td>0.0</td>\n",
       "      <td>0.0</td>\n",
       "      <td>1.0</td>\n",
       "      <td>0.0</td>\n",
       "      <td>0.0</td>\n",
       "      <td>0.0</td>\n",
       "      <td>1.0</td>\n",
       "      <td>1.0</td>\n",
       "      <td>0.0</td>\n",
       "    </tr>\n",
       "    <tr>\n",
       "      <th>3</th>\n",
       "      <td>BF3NC7KV</td>\n",
       "      <td>19</td>\n",
       "      <td>470454</td>\n",
       "      <td>0</td>\n",
       "      <td>0.0</td>\n",
       "      <td>1.0</td>\n",
       "      <td>1.0</td>\n",
       "      <td>0.0</td>\n",
       "      <td>0.0</td>\n",
       "      <td>0.0</td>\n",
       "      <td>1.0</td>\n",
       "      <td>0.0</td>\n",
       "      <td>1.0</td>\n",
       "      <td>0.0</td>\n",
       "    </tr>\n",
       "    <tr>\n",
       "      <th>4</th>\n",
       "      <td>TEASRWXV</td>\n",
       "      <td>33</td>\n",
       "      <td>886787</td>\n",
       "      <td>0</td>\n",
       "      <td>1.0</td>\n",
       "      <td>0.0</td>\n",
       "      <td>1.0</td>\n",
       "      <td>0.0</td>\n",
       "      <td>0.0</td>\n",
       "      <td>0.0</td>\n",
       "      <td>1.0</td>\n",
       "      <td>0.0</td>\n",
       "      <td>1.0</td>\n",
       "      <td>0.0</td>\n",
       "    </tr>\n",
       "  </tbody>\n",
       "</table>\n",
       "</div>"
      ],
      "text/plain": [
       "         ID  Vintage  Avg_Account_Balance  Credit_Product_imputed    0    1  \\\n",
       "0  NNVBBKZB       43              1045696                       0  1.0  0.0   \n",
       "1  IDD62UNG       32               581988                       0  1.0  0.0   \n",
       "2  HD3DSEMC       26              1484315                       0  1.0  0.0   \n",
       "3  BF3NC7KV       19               470454                       0  0.0  1.0   \n",
       "4  TEASRWXV       33               886787                       0  1.0  0.0   \n",
       "\n",
       "     2    3    4    5    6    7    8    9  \n",
       "0  1.0  0.0  0.0  1.0  0.0  0.0  1.0  0.0  \n",
       "1  1.0  0.0  0.0  0.0  1.0  0.0  1.0  0.0  \n",
       "2  0.0  1.0  0.0  0.0  0.0  1.0  1.0  0.0  \n",
       "3  1.0  0.0  0.0  0.0  1.0  0.0  1.0  0.0  \n",
       "4  1.0  0.0  0.0  0.0  1.0  0.0  1.0  0.0  "
      ]
     },
     "execution_count": 158,
     "metadata": {},
     "output_type": "execute_result"
    }
   ],
   "source": [
    "test_train_set.head()"
   ]
  },
  {
   "cell_type": "code",
   "execution_count": 159,
   "id": "64a5c5c3",
   "metadata": {},
   "outputs": [
    {
     "data": {
      "text/plain": [
       "((105312, 14), (245725, 13), (245725,))"
      ]
     },
     "execution_count": 159,
     "metadata": {},
     "output_type": "execute_result"
    }
   ],
   "source": [
    "# After preprocessing dataset, again splitting into test and train set for trainig purpose\n",
    "test = test_train_set.iloc[245725:, :]\n",
    "train = test_train_set.iloc[:245725, :]\n",
    "train = train.drop(['ID'], axis=1)\n",
    "test.shape, train.shape, y.shape"
   ]
  },
  {
   "cell_type": "markdown",
   "id": "88035250",
   "metadata": {},
   "source": [
    "# Performing SMOTE oversampling to balance data \n",
    "- Accuracy improved on provided testdata, but when evaluated on unseen data accuracy decreased, hence not using in final submission"
   ]
  },
  {
   "cell_type": "code",
   "execution_count": 25,
   "id": "e04d2bc0",
   "metadata": {},
   "outputs": [],
   "source": [
    "# oversample = SMOTE()"
   ]
  },
  {
   "cell_type": "code",
   "execution_count": 26,
   "id": "80ae9a14",
   "metadata": {},
   "outputs": [],
   "source": [
    "# X, y = oversample.fit_resample(train, y)"
   ]
  },
  {
   "cell_type": "markdown",
   "id": "e063a126",
   "metadata": {},
   "source": [
    "## **Model Training**"
   ]
  },
  {
   "cell_type": "code",
   "execution_count": 160,
   "id": "785dac32",
   "metadata": {},
   "outputs": [],
   "source": [
    "from sklearn.ensemble import RandomForestClassifier\n",
    "from sklearn.ensemble import GradientBoostingClassifier\n",
    "from sklearn.model_selection import train_test_split\n",
    "from sklearn.model_selection import cross_val_score\n",
    "from sklearn.model_selection import RepeatedStratifiedKFold\n",
    "from sklearn import metrics\n",
    "from xgboost import XGBClassifier\n",
    "from sklearn import svm\n",
    "import warnings\n",
    "warnings.filterwarnings(\"ignore\")"
   ]
  },
  {
   "cell_type": "code",
   "execution_count": 161,
   "id": "cfed0510",
   "metadata": {},
   "outputs": [
    {
     "data": {
      "text/plain": [
       "((147435, 13), (147435,), (98290, 13), (98290,))"
      ]
     },
     "execution_count": 161,
     "metadata": {},
     "output_type": "execute_result"
    }
   ],
   "source": [
    "x_train, x_test, y_train, y_test = train_test_split(train, y, test_size=0.4)\n",
    "x_train.shape, y_train.shape, x_test.shape, y_test.shape"
   ]
  },
  {
   "cell_type": "code",
   "execution_count": 162,
   "id": "e369c447",
   "metadata": {},
   "outputs": [],
   "source": [
    "# model = RandomForestClassifier(n_estimators=150)\n",
    "# model = GradientBoostingClassifier(loss='exponential')\n",
    "model =  XGBClassifier()\n",
    "# model = svm.SVC()"
   ]
  },
  {
   "cell_type": "markdown",
   "id": "f402da19-7af0-44cc-afb5-2a8be0f65d4e",
   "metadata": {},
   "source": [
    "## Hyperparameter tuning"
   ]
  },
  {
   "cell_type": "code",
   "execution_count": 163,
   "id": "8d14f522-e2c9-4b0a-b986-eb16ae73c60e",
   "metadata": {},
   "outputs": [],
   "source": [
    "from sklearn.model_selection import GridSearchCV"
   ]
  },
  {
   "cell_type": "code",
   "execution_count": 164,
   "id": "fd1b7074-7018-4481-9a5e-301d456f8095",
   "metadata": {},
   "outputs": [],
   "source": [
    "params={\n",
    "    \"learning_rate\"    : [0.05,0.1, 0.3,0.35] ,\n",
    "    \"max_depth\"        : [ 12, 15],\n",
    "    \"n_estimators\": [100, 150, 200]\n",
    "}"
   ]
  },
  {
   "cell_type": "code",
   "execution_count": 165,
   "id": "105f1642-3883-42c3-8d13-f275a0a35d0a",
   "metadata": {},
   "outputs": [],
   "source": [
    "grid_search = GridSearchCV(estimator=model, param_grid=params, scoring=\"roc_auc\", n_jobs=-1, cv=5)"
   ]
  },
  {
   "cell_type": "code",
   "execution_count": null,
   "id": "beb7f8f7-62a2-4c8e-9a6d-31524a770e31",
   "metadata": {},
   "outputs": [],
   "source": [
    "strt_timer = timer()\n",
    "grid_search.fit(x_train, y_train.ravel())\n",
    "timer(strt_timer)"
   ]
  },
  {
   "cell_type": "code",
   "execution_count": null,
   "id": "3c243d8c-1e90-46d4-97c9-a0a3ca2e1c31",
   "metadata": {},
   "outputs": [],
   "source": [
    "grid_search.best_estimator_"
   ]
  },
  {
   "cell_type": "code",
   "execution_count": null,
   "id": "7071dc93-3b8b-41eb-bbd0-7201d4becbc7",
   "metadata": {},
   "outputs": [],
   "source": [
    "accuracy = grid_search.best_score_\n",
    "accuracy"
   ]
  },
  {
   "cell_type": "code",
   "execution_count": null,
   "id": "49b62145-a609-4930-a945-1881b9166e9b",
   "metadata": {},
   "outputs": [],
   "source": [
    "grid_tuned_model = XGBClassifier(base_score=0.5, booster='gbtree', colsample_bylevel=1,\n",
    "              colsample_bynode=1, colsample_bytree=1, gamma=0, gpu_id=-1,\n",
    "              importance_type='gain', interaction_constraints='',\n",
    "              learning_rate=0.05, max_delta_step=0, max_depth=12,\n",
    "              min_child_weight=1, missing=np.nan, monotone_constraints='()',\n",
    "              n_estimators=100, n_jobs=8, num_parallel_tree=1, random_state=0,\n",
    "              reg_alpha=0, reg_lambda=1, scale_pos_weight=1, subsample=1,\n",
    "              tree_method='exact', validate_parameters=1, verbosity=None)"
   ]
  },
  {
   "cell_type": "code",
   "execution_count": null,
   "id": "44d14106-d1ec-4313-bb3a-00138d62fed8",
   "metadata": {},
   "outputs": [],
   "source": [
    "grid_tuned_model.fit(x_train, y_train.ravel())"
   ]
  },
  {
   "cell_type": "code",
   "execution_count": null,
   "id": "f3142360-d958-4825-8868-63350f9256ff",
   "metadata": {},
   "outputs": [],
   "source": [
    "# inferencing on test split\n",
    "y_pred = grid_tuned_model.predict(x_test)\n",
    "y_pred"
   ]
  },
  {
   "cell_type": "markdown",
   "id": "5ed0d6f8-c040-45f0-a459-175764726e8a",
   "metadata": {},
   "source": [
    "## **Classification report on test split**"
   ]
  },
  {
   "cell_type": "code",
   "execution_count": null,
   "id": "b3845cca-aafa-4cf4-9c14-b881d42ce09d",
   "metadata": {},
   "outputs": [],
   "source": [
    "print(metrics.classification_report(y_pred, y_test))\n",
    "print(\"roc_auc score:\", metrics.roc_auc_score(y_pred, y_test))"
   ]
  },
  {
   "cell_type": "markdown",
   "id": "0bf6624a-c5aa-444d-bc1f-50fc52e3b6b9",
   "metadata": {},
   "source": [
    "## **Making prediction for test dataset provided**"
   ]
  },
  {
   "cell_type": "code",
   "execution_count": null,
   "id": "a4fafc7e",
   "metadata": {},
   "outputs": [],
   "source": [
    "ID = test['ID']\n",
    "eval = test.drop(['ID'], axis=1)"
   ]
  },
  {
   "cell_type": "code",
   "execution_count": null,
   "id": "567ad504",
   "metadata": {},
   "outputs": [],
   "source": [
    "eval_pred = grid_tuned_model.predict_proba(eval)\n",
    "eval_pred"
   ]
  },
  {
   "cell_type": "code",
   "execution_count": null,
   "id": "7bcfb67f",
   "metadata": {},
   "outputs": [],
   "source": [
    "out_df = pd.DataFrame({\"ID\":ID, \"Is_Lead\":eval_pred[:,1]})\n",
    "out_df.head()"
   ]
  },
  {
   "cell_type": "code",
   "execution_count": null,
   "id": "cb3e88b2",
   "metadata": {},
   "outputs": [],
   "source": [
    "out_df.to_csv(\"output/xgbClassifier_with_gridSearchCV.csv\", index=False, header=True)"
   ]
  }
 ],
 "metadata": {
  "kernelspec": {
   "display_name": "tf114",
   "language": "python",
   "name": "tf114"
  },
  "language_info": {
   "codemirror_mode": {
    "name": "ipython",
    "version": 3
   },
   "file_extension": ".py",
   "mimetype": "text/x-python",
   "name": "python",
   "nbconvert_exporter": "python",
   "pygments_lexer": "ipython3",
   "version": "3.6.10"
  }
 },
 "nbformat": 4,
 "nbformat_minor": 5
}
